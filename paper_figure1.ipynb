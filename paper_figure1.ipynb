{
 "cells": [
  {
   "cell_type": "code",
   "execution_count": 1,
   "metadata": {},
   "outputs": [],
   "source": [
    "### If testing, data is randomly generated, and plots are not saved.\n",
    "### For performing the analysis with actual data, set TEST = False.\n",
    "TEST = True "
   ]
  },
  {
   "cell_type": "markdown",
   "metadata": {},
   "source": [
    "Figure 1C: Variation of EMA variables explained by the estimated VAR(1) models.\n",
    "\n",
    "Figure 1D: Correlation of predicted and observed proximal effects of inputs on EMA variables."
   ]
  },
  {
   "cell_type": "code",
   "execution_count": 2,
   "metadata": {},
   "outputs": [
    {
     "name": "stdout",
     "output_type": "stream",
     "text": [
      "1-step ahead prediction: across-subject mean R^2=0.9354128192342961, std=0.046216993268727954\n",
      "Empirical vs. predicted EMI effects: r=0.9990707793000744, p=6.579741515637158e-81, R^2=0.9981424220512579\n"
     ]
    },
    {
     "data": {
      "image/png": "[encoded data removed]",
      "text/plain": [
       "<Figure size 150x150 with 1 Axes>"
      ]
     },
     "metadata": {},
     "output_type": "display_data"
    },
    {
     "data": {
      "image/png": "[encoded data removed]",
      "text/plain": [
       "<Figure size 150x90 with 1 Axes>"
      ]
     },
     "metadata": {},
     "output_type": "display_data"
    }
   ],
   "source": [
    "from ctrl import utils\n",
    "from ctrl.discrete_optimal_control import LQR\n",
    "import custom_rcparams_paper as crc\n",
    "import matplotlib.pyplot as plt\n",
    "import matplotlib as mpl\n",
    "import numpy as np\n",
    "from scipy.stats import sem\n",
    "import os\n",
    "\n",
    "if TEST:\n",
    "    data = utils.generate_random_dataset(10, 50)\n",
    "else:\n",
    "    data = utils.load_data()\n",
    "    os.makedirs('figures', exist_ok=True)\n",
    "\n",
    "N = len(data)\n",
    "n_feat = len(data[0]['Xlabs'])\n",
    "n_emis = len(data[0]['Ilabs'])\n",
    "determination_coeff = np.zeros((N, n_feat))\n",
    "r_squared = np.zeros((N, n_feat))\n",
    "emi_effects = np.zeros((N, n_emis, n_feat))\n",
    "predicted_effects = np.zeros((N, n_emis, n_feat))\n",
    "Xpred = []\n",
    "\n",
    "for j in range(len(data)):\n",
    "    A = data[j]['A']\n",
    "    B = data[j]['B']\n",
    "    X = data[j]['X']\n",
    "    Xnan = data[j]['Xnan']\n",
    "    U = data[j]['Inp']\n",
    "\n",
    "    prediction = LQR.step(A, B, X, U)[:-1]  # Make a 1-step ahead prediction with the model\n",
    "    Xpred.append(prediction)\n",
    "    mask = np.isnan(Xnan[:-1])              # We only analyze the data which is not missing (leaving out imputed data)\n",
    "    prediction[mask] = np.nan\n",
    "\n",
    "    ### For figure 1C: Explained variance of the trajectory\n",
    "    determination_coeff[j] = 1 - (np.nansum((prediction - Xnan[1:])**2, axis=0) \n",
    "                                  / np.nansum((np.nanmean(Xnan[1:], axis=0, keepdims=True) - Xnan[1:])**2, axis=0))\n",
    "\n",
    "    ### For figure 1D: Predicted and empirical proximal effects of EMI\n",
    "    ### The proximal effect if the difference between the EMA values before and after an EMI.\n",
    "    for e in range(n_emis):\n",
    "        Xnan_before = Xnan[:-1][U[:-1,e]==1]\n",
    "        Xnan_after = Xnan[1:][U[:-1,e]==1]\n",
    "        emi_effects[j,e] = np.nanmean(Xnan_after - Xnan_before, axis=0)\n",
    "        predicted_after = prediction[U[:-1,e]==1]\n",
    "        predicted_effects[j,e] = np.nanmean((predicted_after - Xnan_before), axis=0)\n",
    "\n",
    "    for f in range(n_feat):\n",
    "        mask = ~np.isnan(Xnan[1:][:,f]) & ~np.isnan(prediction[:,f])\n",
    "        r_squared[j,f] = np.corrcoef(prediction[mask,f], Xnan[1:][mask, f])[0,1]**2\n",
    "\n",
    "with mpl.rc_context({'ytick.labelsize':'x-small'}):\n",
    "    fig, ax = plt.subplots(1,1, figsize=(1.5,1.5))\n",
    "    ax.barh(range(n_feat), np.nanmean(r_squared, axis=0), color=crc.colors.features,\n",
    "                xerr=sem(r_squared, axis=0, nan_policy='omit'), error_kw={'linewidth':1}, ecolor=crc.colors.errorbars)\n",
    "    ax.set_yticks(np.arange(n_feat), labels=data[0]['Xlabs'])\n",
    "    ax.set_ylim((-0.5, n_feat-0.5))\n",
    "    ax.set_xlabel('expl. variation')\n",
    "    if not TEST:\n",
    "        fig.savefig('figures/figure1C.png')\n",
    "\n",
    "\n",
    "fig, ax = plt.subplots(1,1,figsize=(1.5,0.9))\n",
    "predicted_effects[np.isnan(emi_effects)] = np.nan\n",
    "predicted_effects = np.nanmean(predicted_effects, axis=0)\n",
    "emi_effects = np.nanmean(emi_effects, axis=0)\n",
    "ax, corr = utils.plot_regression(predicted_effects.flatten(), emi_effects.flatten(), \n",
    "                      scatter_kwargs={'color':crc.colors.standard}, line_kwargs={'color':'k'}, ax=ax,\n",
    "                      nan_policy='omit')\n",
    "ax.set_xlabel('pred. input effect')\n",
    "ax.set_ylabel('obs. inp. effect')\n",
    "if not TEST:\n",
    "    fig.savefig('figures/figure1D.png')\n",
    "    fig.savefig('figures/figure1D.svg')\n",
    "\n",
    "print(f\"1-step ahead prediction: across-subject mean R^2={np.nanmean(r_squared)}, std={np.nanstd(r_squared)}\")\n",
    "print(f'Empirical vs. predicted EMI effects: r={corr.statistic}, p={corr.pvalue}, R^2={corr.statistic**2}')"
   ]
  }
 ],
 "metadata": {
  "kernelspec": {
   "display_name": ".venv",
   "language": "python",
   "name": "python3"
  },
  "language_info": {
   "codemirror_mode": {
    "name": "ipython",
    "version": 3
   },
   "file_extension": ".py",
   "mimetype": "text/x-python",
   "name": "python",
   "nbconvert_exporter": "python",
   "pygments_lexer": "ipython3",
   "version": "3.10.11"
  },
  "orig_nbformat": 4
 },
 "nbformat": 4,
 "nbformat_minor": 2
}
