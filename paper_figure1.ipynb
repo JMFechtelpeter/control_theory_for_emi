{
 "cells": [
  {
   "cell_type": "code",
   "execution_count": 1,
   "metadata": {},
   "outputs": [
    {
     "name": "stderr",
     "output_type": "stream",
     "text": [
      "d:\\ZI Mannheim\\Control Theory\\project_EMIcompass\\.venv\\lib\\site-packages\\scipy\\io\\matlab\\_mio.py:227: MatReadWarning: Duplicate variable name \"None\" in stream - replacing previous with new\n",
      "Consider mio5.varmats_from_mat to split file into single variable files\n",
      "  matfile_dict = MR.get_variables(variable_names)\n",
      "C:\\Users\\janik.fechtelpeter\\AppData\\Local\\Temp\\ipykernel_20720\\3520928829.py:41: RuntimeWarning: Mean of empty slice\n",
      "  emi_effects[j,e] = np.nanmean(Xnan_after - Xnan_before, axis=0)\n",
      "C:\\Users\\janik.fechtelpeter\\AppData\\Local\\Temp\\ipykernel_20720\\3520928829.py:43: RuntimeWarning: Mean of empty slice\n",
      "  predicted_effects[j,e] = np.nanmean((predicted_after - Xnan_before), axis=0)\n",
      "d:\\ZI Mannheim\\Control Theory\\project_EMIcompass\\.venv\\lib\\site-packages\\numpy\\lib\\function_base.py:520: RuntimeWarning: Mean of empty slice.\n",
      "  avg = a.mean(axis, **keepdims_kw)\n",
      "d:\\ZI Mannheim\\Control Theory\\project_EMIcompass\\.venv\\lib\\site-packages\\numpy\\core\\_methods.py:121: RuntimeWarning: invalid value encountered in divide\n",
      "  ret = um.true_divide(\n",
      "d:\\ZI Mannheim\\Control Theory\\project_EMIcompass\\.venv\\lib\\site-packages\\numpy\\lib\\function_base.py:2889: RuntimeWarning: Degrees of freedom <= 0 for slice\n",
      "  c = cov(x, y, rowvar, dtype=dtype)\n",
      "d:\\ZI Mannheim\\Control Theory\\project_EMIcompass\\.venv\\lib\\site-packages\\numpy\\lib\\function_base.py:2748: RuntimeWarning: divide by zero encountered in divide\n",
      "  c *= np.true_divide(1, fact)\n",
      "d:\\ZI Mannheim\\Control Theory\\project_EMIcompass\\.venv\\lib\\site-packages\\numpy\\lib\\function_base.py:2748: RuntimeWarning: invalid value encountered in multiply\n",
      "  c *= np.true_divide(1, fact)\n",
      "C:\\Users\\janik.fechtelpeter\\AppData\\Local\\Temp\\ipykernel_20720\\3520928829.py:35: RuntimeWarning: divide by zero encountered in divide\n",
      "  determination_coeff[j] = 1 - (np.nansum((prediction - Xnan[1:])**2, axis=0)\n",
      "d:\\ZI Mannheim\\Control Theory\\project_EMIcompass\\.venv\\lib\\site-packages\\numpy\\lib\\function_base.py:2897: RuntimeWarning: invalid value encountered in divide\n",
      "  c /= stddev[:, None]\n",
      "d:\\ZI Mannheim\\Control Theory\\project_EMIcompass\\.venv\\lib\\site-packages\\numpy\\lib\\function_base.py:2898: RuntimeWarning: invalid value encountered in divide\n",
      "  c /= stddev[None, :]\n"
     ]
    },
    {
     "name": "stdout",
     "output_type": "stream",
     "text": [
      "Absolute prediction item mean: mean R^2=0.45801051902681233, sem R^2=0.2830879055317403\n",
      "Difference prediction: r=0.8815765160099452, p=6.333633173631178e-18, R^2=0.7771771535802332\n"
     ]
    },
    {
     "name": "stderr",
     "output_type": "stream",
     "text": [
      "C:\\Users\\janik.fechtelpeter\\AppData\\Local\\Temp\\ipykernel_20720\\3520928829.py:61: RuntimeWarning: Mean of empty slice\n",
      "  predicted_effects = np.nanmean(predicted_effects, axis=0)\n",
      "C:\\Users\\janik.fechtelpeter\\AppData\\Local\\Temp\\ipykernel_20720\\3520928829.py:62: RuntimeWarning: Mean of empty slice\n",
      "  emi_effects = np.nanmean(emi_effects, axis=0)\n"
     ]
    },
    {
     "data": {
      "image/png": "[encoded data removed]",
      "text/plain": [
       "<Figure size 150x150 with 1 Axes>"
      ]
     },
     "metadata": {},
     "output_type": "display_data"
    },
    {
     "data": {
      "image/png": "[encoded data removed]",
      "text/plain": [
       "<Figure size 150x90 with 1 Axes>"
      ]
     },
     "metadata": {},
     "output_type": "display_data"
    }
   ],
   "source": [
    "from ctrl import utils\n",
    "from ctrl.discrete_optimal_control2 import LQR\n",
    "import custom_rcparams_paper as crc\n",
    "import matplotlib.pyplot as plt\n",
    "import matplotlib as mpl\n",
    "import numpy as np\n",
    "from scipy.stats import sem\n",
    "import os\n",
    "\n",
    "os.makedirs('figures', exist_ok=True)\n",
    "\n",
    "data = utils.load_data()\n",
    "N = len(data)\n",
    "n_feat = len(data[0]['Xlabs'])\n",
    "n_emis = len(data[0]['Ilabs'])\n",
    "determination_coeff = np.zeros((N, n_feat))\n",
    "r_squared = np.zeros((N, n_feat))\n",
    "emi_effects = np.zeros((N, n_emis, n_feat))\n",
    "predicted_effects = np.zeros((N, n_emis, n_feat))\n",
    "Xpred = []\n",
    "\n",
    "for j in range(len(data)):\n",
    "    A = data[j]['A']\n",
    "    B = data[j]['C']\n",
    "    X = data[j]['X']\n",
    "    Xnan = data[j]['Xnan']\n",
    "    U = data[j]['Inp']\n",
    "\n",
    "    prediction = LQR.step(A, B, X, U)[:-1]\n",
    "    Xpred.append(prediction)\n",
    "\n",
    "    mask = np.isnan(Xnan[:-1])\n",
    "    prediction[mask] = np.nan\n",
    "\n",
    "    determination_coeff[j] = 1 - (np.nansum((prediction - Xnan[1:])**2, axis=0) \n",
    "                                  / np.nansum((np.nanmean(Xnan[1:], axis=0, keepdims=True) - Xnan[1:])**2, axis=0))\n",
    "\n",
    "    for e in range(n_emis):\n",
    "        Xnan_before = Xnan[:-1][U[:-1,e]==1]\n",
    "        Xnan_after = Xnan[1:][U[:-1,e]==1]\n",
    "        emi_effects[j,e] = np.nanmean(Xnan_after - Xnan_before, axis=0)\n",
    "        predicted_after = prediction[U[:-1,e]==1]\n",
    "        predicted_effects[j,e] = np.nanmean((predicted_after - Xnan_before), axis=0)\n",
    "\n",
    "    for f in range(n_feat):\n",
    "        mask = ~np.isnan(Xnan[1:][:,f]) & ~np.isnan(prediction[:,f])\n",
    "        r_squared[j,f] = np.corrcoef(prediction[mask,f], Xnan[1:][mask, f])[0,1]**2\n",
    "\n",
    "with mpl.rc_context({'ytick.labelsize':'x-small'}):\n",
    "    fig, ax = plt.subplots(1,1, figsize=(1.5,1.5))\n",
    "    ax.barh(range(n_feat), np.nanmean(r_squared, axis=0), color=crc.colors.features,\n",
    "                xerr=sem(r_squared, axis=0, nan_policy='omit'), error_kw={'linewidth':1}, ecolor=crc.colors.errorbars)\n",
    "    ax.set_yticks(np.arange(n_feat), labels=data[0]['Xlabs'])\n",
    "    ax.set_ylim((-0.5, n_feat-0.5))\n",
    "    ax.set_xlabel('expl. variation')\n",
    "    fig.savefig('figures/figure1C.png')\n",
    "\n",
    "\n",
    "fig, ax = plt.subplots(1,1,figsize=(1.5,0.9))\n",
    "predicted_effects[np.isnan(emi_effects)] = np.nan\n",
    "predicted_effects = np.nanmean(predicted_effects, axis=0)\n",
    "emi_effects = np.nanmean(emi_effects, axis=0)\n",
    "ax, corr = utils.plot_regression(predicted_effects.flatten(), emi_effects.flatten(), \n",
    "                      scatter_kwargs={'color':crc.colors.standard}, line_kwargs={'color':'k'}, ax=ax,\n",
    "                      nan_policy='omit')\n",
    "ax.set_xlabel('pred. input effect')\n",
    "ax.set_ylabel('obs. inp. effect')\n",
    "\n",
    "fig.savefig('figures/figure1D.png')\n",
    "\n",
    "print(f\"Absolute prediction item mean: mean R^2={np.nanmean(r_squared)}, std R^2={np.nanstd(r_squared)}\")\n",
    "print(f'Difference prediction: r={corr.statistic}, p={corr.pvalue}, R^2={corr.statistic**2}')"
   ]
  }
 ],
 "metadata": {
  "kernelspec": {
   "display_name": ".venv",
   "language": "python",
   "name": "python3"
  },
  "language_info": {
   "codemirror_mode": {
    "name": "ipython",
    "version": 3
   },
   "file_extension": ".py",
   "mimetype": "text/x-python",
   "name": "python",
   "nbconvert_exporter": "python",
   "pygments_lexer": "ipython3",
   "version": "3.10.11"
  },
  "orig_nbformat": 4
 },
 "nbformat": 4,
 "nbformat_minor": 2
}
