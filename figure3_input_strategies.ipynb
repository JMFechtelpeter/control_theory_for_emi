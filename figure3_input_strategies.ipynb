{
 "cells": [
  {
   "cell_type": "markdown",
   "metadata": {},
   "source": [
    "EMI Selection parameters"
   ]
  },
  {
   "cell_type": "code",
   "execution_count": 1,
   "metadata": {},
   "outputs": [],
   "source": [
    "# Do you want to select EMI at every time step, or only when EMI were selected in the original data?\n",
    "EMI_at_every_timestep = False\n",
    "\n",
    "# Do you want to allow the algorithm to select no EMI at all?\n",
    "allow_no_EMI = False\n",
    "\n",
    "# Do you want to exclude short time series?\n",
    "exclude_short = False\n",
    "\n",
    "# What is the weight of control energy in the loss function?\n",
    "rho = 80"
   ]
  },
  {
   "cell_type": "code",
   "execution_count": 2,
   "metadata": {},
   "outputs": [],
   "source": [
    "from ctrl import utils\n",
    "\n",
    "# data = utils.generate_random_dataset(10, 50)\n",
    "data = utils.load_data()"
   ]
  },
  {
   "cell_type": "markdown",
   "metadata": {},
   "source": [
    "Apply the optimal control, brute force, and max AC strategies in their offline version to all time series. Calculate the predicted effects of their selected inputs."
   ]
  },
  {
   "cell_type": "code",
   "execution_count": 3,
   "metadata": {},
   "outputs": [],
   "source": [
    "import ctrl.discrete_optimal_control as doc\n",
    "import ctrl.control_strategies as strategies\n",
    "import numpy as np\n",
    "import pandas as pd\n",
    "\n",
    "n_inp = data[0]['Inp'].shape[1]\n",
    "n_emas = data[0]['X'].shape[1]\n",
    "Yref = np.ones(n_emas) * (-3)\n",
    "Q = np.eye(n_emas)\n",
    "R = np.eye(n_inp) * rho\n",
    "\n",
    "if allow_no_EMI:\n",
    "    select_from = np.vstack((np.eye(n_inp), np.zeros(n_inp)))\n",
    "else:\n",
    "    select_from = np.eye(n_inp)\n",
    "effects = pd.DataFrame(index=range(len(data)))\n",
    "\n",
    "for i, d in enumerate(data):\n",
    "    \n",
    "    A, B, lmbda = utils.stable_ridge_regression(d['X'], d['Inp'])\n",
    "    if EMI_at_every_timestep:\n",
    "        EMI_times = np.arange(len(d['Inp']))\n",
    "    else:\n",
    "        EMI_times = np.where(d['Inp'].sum(axis=1) > 0)[0]\n",
    "    if EMI_times[-1] >= len(d['Inp'])-1:\n",
    "        EMI_times = EMI_times[:-1]\n",
    "\n",
    "    # Empirical effects\n",
    "    effects.loc[i,'empirical'] = (d['X'][EMI_times + 1] - d['X'][EMI_times]).mean()\n",
    "\n",
    "    # Rounded optimal control strategy\n",
    "    U_opt = strategies.optimal_control_strategy(d['X'], d['Inp'], Yref, select_from, rho, online=False)\n",
    "    X_ctrl_opt = doc.step(A, B, d['X'], U_opt)\n",
    "    effects.loc[i,'optimal ctrl'] = (X_ctrl_opt[EMI_times] - d['X'][EMI_times]).mean()\n",
    "\n",
    "    # 5-step brute force strategy\n",
    "    U_bf = strategies.brute_force_strategy(d['X'], d['Inp'], Yref, select_from, 5, rho, online=False)\n",
    "    X_ctrl_bf = doc.step(A, B, d['X'], U_bf)   \n",
    "    effects.loc[i,'brute force'] = (X_ctrl_bf[EMI_times] - d['X'][EMI_times]).mean()\n",
    "\n",
    "    # Largest AC strategy\n",
    "    U_ac = strategies.max_ac_strategy(d['X'], d['Inp'], select_from, online=False)\n",
    "    X_ctrl_ac = doc.step(A, B, d['X'], U_ac)\n",
    "    effects.loc[i,'max AC'] = (X_ctrl_ac[EMI_times] - d['X'][EMI_times]).mean()\n",
    "\n",
    "effects.index = np.arange(1,11)"
   ]
  },
  {
   "cell_type": "markdown",
   "metadata": {},
   "source": [
    "Calculate the mean effects (and standard deviations) for each strategy"
   ]
  },
  {
   "cell_type": "code",
   "execution_count": 4,
   "metadata": {},
   "outputs": [
    {
     "name": "stdout",
     "output_type": "stream",
     "text": [
      "MEAN EFFECTS\n",
      "empirical      -0.104219\n",
      "optimal ctrl   -0.377856\n",
      "brute force    -0.390347\n",
      "max AC         -0.334933\n",
      "dtype: float64\n",
      "STD EFFECTS\n",
      "empirical       0.097329\n",
      "optimal ctrl    0.347194\n",
      "brute force     0.225026\n",
      "max AC          0.477215\n",
      "dtype: float64\n"
     ]
    }
   ],
   "source": [
    "print('MEAN EFFECTS')\n",
    "print(effects.mean())\n",
    "print('STD EFFECTS')\n",
    "print(effects.std())"
   ]
  },
  {
   "cell_type": "markdown",
   "metadata": {},
   "source": [
    "Calculate the relative effects: the difference of the predicted and the observed effects"
   ]
  },
  {
   "cell_type": "code",
   "execution_count": 5,
   "metadata": {},
   "outputs": [],
   "source": [
    "relative_effects = effects[['optimal ctrl', 'brute force', 'max AC']] - effects[['empirical']].to_numpy()"
   ]
  },
  {
   "cell_type": "markdown",
   "metadata": {},
   "source": [
    "Test the relative effects against 0"
   ]
  },
  {
   "cell_type": "code",
   "execution_count": 6,
   "metadata": {},
   "outputs": [
    {
     "name": "stdout",
     "output_type": "stream",
     "text": [
      "TtestResult(statistic=-2.1428301899241826, pvalue=0.06074100973757152, df=9)\n",
      "TtestResult(statistic=-3.5935562468365987, pvalue=0.005806439196943078, df=9)\n",
      "TtestResult(statistic=-1.3803429354848173, pvalue=0.2007966211018456, df=9)\n"
     ]
    }
   ],
   "source": [
    "from scipy.stats import ttest_1samp\n",
    "\n",
    "print(ttest_1samp(relative_effects['optimal ctrl'], 0))\n",
    "print(ttest_1samp(relative_effects['brute force'], 0))\n",
    "print(ttest_1samp(relative_effects['max AC'], 0))"
   ]
  },
  {
   "cell_type": "markdown",
   "metadata": {},
   "source": [
    "Calculate the effect sizes for each strategy"
   ]
  },
  {
   "cell_type": "code",
   "execution_count": 7,
   "metadata": {},
   "outputs": [
    {
     "name": "stdout",
     "output_type": "stream",
     "text": [
      "HEDGES G\n",
      "optimal ctrl: 1.027878668844013\n",
      "brute force: 1.5807176602271076\n",
      "max AC: 0.6416175628598989\n"
     ]
    }
   ],
   "source": [
    "print('HEDGES G')\n",
    "print('optimal ctrl:', utils.cohens_d(effects['empirical'], effects['optimal ctrl'], correct=True))\n",
    "print('brute force:', utils.cohens_d(effects['empirical'], effects['brute force'], correct=True))\n",
    "print('max AC:', utils.cohens_d(effects['empirical'], effects['max AC'], correct=True))"
   ]
  },
  {
   "cell_type": "markdown",
   "metadata": {},
   "source": [
    "Plot the relative effects of each strategy"
   ]
  },
  {
   "cell_type": "code",
   "execution_count": 8,
   "metadata": {},
   "outputs": [
    {
     "name": "stderr",
     "output_type": "stream",
     "text": [
      "C:\\Users\\janik.fechtelpeter\\AppData\\Local\\Temp\\ipykernel_28952\\801577151.py:10: UserWarning: constrained_layout not applied because axes sizes collapsed to zero.  Try making figure larger or axes decorations smaller.\n",
      "  plt.savefig('figures/3b.png')\n",
      "d:\\ZI Mannheim\\Control Theory\\paper_EMIcompass\\code\\.venv\\lib\\site-packages\\IPython\\core\\pylabtools.py:170: UserWarning: constrained_layout not applied because axes sizes collapsed to zero.  Try making figure larger or axes decorations smaller.\n",
      "  fig.canvas.print_figure(bytes_io, **kw)\n"
     ]
    },
    {
     "data": {
      "image/png": "[encoded data removed]",
      "text/plain": [
       "<Figure size 170x150 with 1 Axes>"
      ]
     },
     "metadata": {},
     "output_type": "display_data"
    }
   ],
   "source": [
    "import matplotlib.pyplot as plt\n",
    "from custom_rcparams_paper import colors\n",
    "\n",
    "plt.subplots(layout='constrained')\n",
    "ax = relative_effects.mean().plot(kind='bar', ylabel='$\\hat{D} - D$', yerr=relative_effects.sem(), figsize=(1.7, 1.5),\n",
    "                         color=colors.algorithms, ecolor=colors.errorbars)\n",
    "ax.set_xticks(range(len(relative_effects.columns)), labels=relative_effects.columns)\n",
    "utils.set_axis_size(ax, 1.4, 1)\n",
    "\n",
    "plt.savefig('figures/3b.png')"
   ]
  },
  {
   "cell_type": "markdown",
   "metadata": {},
   "source": [
    "Apply the optimal control, brute force, and max AC strategies in their online version to all time series. Calculate the predicted effects of their selected inputs."
   ]
  },
  {
   "cell_type": "code",
   "execution_count": 23,
   "metadata": {},
   "outputs": [
    {
     "name": "stderr",
     "output_type": "stream",
     "text": [
      "Subject 0; length 84: 100%|██████████| 17/17 [00:04<00:00,  3.64it/s]\n",
      "Subject 1; length 22: 0it [00:00, ?it/s]\n",
      "Subject 2; length 66: 100%|██████████| 30/30 [01:02<00:00,  2.08s/it]\n",
      "Subject 3; length 42: 100%|██████████| 9/9 [00:06<00:00,  1.48it/s]\n",
      "Subject 4; length 26: 100%|██████████| 5/5 [00:08<00:00,  1.63s/it]\n",
      "Subject 5; length 22: 100%|██████████| 1/1 [00:00<00:00,  4.02it/s]\n",
      "Subject 6; length 58: 100%|██████████| 21/21 [00:03<00:00,  5.85it/s]\n",
      "Subject 7; length 48: 100%|██████████| 20/20 [00:02<00:00,  8.69it/s]\n",
      "Subject 8; length 40: 100%|██████████| 16/16 [00:05<00:00,  3.00it/s]\n"
     ]
    },
    {
     "name": "stdout",
     "output_type": "stream",
     "text": [
      "Optimal control could not be calculated in subject 8 at times [29, 34] because the discrete algebraic riccati equation could not be solved.\n"
     ]
    },
    {
     "name": "stderr",
     "output_type": "stream",
     "text": [
      "Subject 9; length 88: 100%|██████████| 25/25 [00:01<00:00, 21.04it/s]\n"
     ]
    }
   ],
   "source": [
    "from tqdm import tqdm\n",
    "\n",
    "online_effects = []\n",
    "\n",
    "if allow_no_EMI:\n",
    "    select_from = np.vstack((np.eye(n_inp), np.zeros(n_inp)))\n",
    "else:\n",
    "    select_from = np.eye(n_inp)\n",
    "\n",
    "for i, d in enumerate(data):\n",
    "\n",
    "    if EMI_at_every_timestep:\n",
    "        EMI_times = np.arange(len(d['Inp']))\n",
    "    else:\n",
    "        EMI_times = np.where(d['Inp'].sum(axis=1) > 0)[0]\n",
    "    EMI_times = EMI_times[EMI_times>=20]\n",
    "    if len(EMI_times)==0:\n",
    "        continue\n",
    "    if EMI_times[-1] >= len(d['Inp'])-1:\n",
    "        EMI_times = EMI_times[:-1]\n",
    "    subject_effects = pd.DataFrame(index=pd.MultiIndex.from_product([[i], EMI_times], names=['subject', 'timestep']))\n",
    "    linalg_errors = []\n",
    "\n",
    "    for t in tqdm(EMI_times, desc=f'Subject {i}; length {len(d[\"X\"])}'):\n",
    "\n",
    "        if exclude_short and len(d['X'])<25:\n",
    "            continue\n",
    "\n",
    "        subject_effects.loc[(i, t),'empirical'] = (d['X'][t+1] - d['X'][t]).mean()\n",
    "\n",
    "        # Rounded optimal control strategy\n",
    "        try:\n",
    "            U_opt = strategies.optimal_control_strategy(d['X'][:t+1], d['Inp'][:t+1], Yref, select_from, rho, online=True)\n",
    "        except np.linalg.LinAlgError:\n",
    "            linalg_errors.append(t)\n",
    "        else:\n",
    "            X_ctrl_opt = doc.step(d['A'], d['B'], d['X'][t], U_opt)\n",
    "            subject_effects.loc[(i,t),'optimal ctrl'] = (X_ctrl_opt - d['X'][t]).mean()\n",
    "\n",
    "        # 5-step brute force strategy\n",
    "        U_bf = strategies.brute_force_strategy(d['X'][:t+1], d['Inp'][:t+1], Yref, select_from, 5, rho, online=True)\n",
    "        X_ctrl_bf = doc.step(d['A'], d['B'], d['X'][t], U_bf)   \n",
    "        subject_effects.loc[(i,t),'brute force'] = (X_ctrl_bf - d['X'][t]).mean()\n",
    "\n",
    "        # Largest AC strategy\n",
    "        U_ac = strategies.max_ac_strategy(d['X'][:t+1], d['Inp'][:t+1], select_from, online=True)\n",
    "        X_ctrl_ac = doc.step(d['A'], d['B'], d['X'][t], U_ac)\n",
    "        subject_effects.loc[(i,t),'max AC'] = (X_ctrl_ac - d['X'][t]).mean()\n",
    "    \n",
    "    online_effects.append(subject_effects)\n",
    "    if linalg_errors:\n",
    "        print(f'Optimal control could not be calculated in subject {i} at times {linalg_errors} because the discrete algebraic riccati equation could not be solved.')\n",
    "\n",
    "online_effects = pd.concat(online_effects, axis=0)"
   ]
  },
  {
   "cell_type": "markdown",
   "metadata": {},
   "source": [
    "Calculate the mean effects per subject, then the mean and standard deviation over all subjects"
   ]
  },
  {
   "cell_type": "code",
   "execution_count": 24,
   "metadata": {},
   "outputs": [
    {
     "name": "stdout",
     "output_type": "stream",
     "text": [
      "MEAN EFFECTS\n",
      "empirical      -0.067864\n",
      "optimal ctrl   -0.129579\n",
      "brute force    -0.270369\n",
      "max AC         -0.299083\n",
      "dtype: float64\n",
      "STD EFFECTS\n",
      "empirical       0.154161\n",
      "optimal ctrl    0.170630\n",
      "brute force     0.138158\n",
      "max AC          0.182697\n",
      "dtype: float64\n"
     ]
    }
   ],
   "source": [
    "print('MEAN EFFECTS')\n",
    "print(online_effects.groupby('subject').mean().mean())\n",
    "print('STD EFFECTS')\n",
    "print(online_effects.groupby('subject').mean().std())"
   ]
  },
  {
   "cell_type": "markdown",
   "metadata": {},
   "source": [
    "Calculate the relative effects by subtracting the predicted from the observed effects"
   ]
  },
  {
   "cell_type": "code",
   "execution_count": 25,
   "metadata": {},
   "outputs": [],
   "source": [
    "relative_online_effects = online_effects[['optimal ctrl', 'brute force', 'max AC']] - online_effects[['empirical']].to_numpy()"
   ]
  },
  {
   "cell_type": "markdown",
   "metadata": {},
   "source": [
    "Test the relative effects of the three strategies against zero"
   ]
  },
  {
   "cell_type": "code",
   "execution_count": 34,
   "metadata": {},
   "outputs": [
    {
     "name": "stdout",
     "output_type": "stream",
     "text": [
      "optimal ctrl: TtestResult(statistic=-0.7586321813454547, pvalue=0.46983064207855096, df=8)\n",
      "optimal ctrl: TtestResult(statistic=0.7221300232933927, pvalue=0.4907809893173828, df=8)\n",
      "brute force: TtestResult(statistic=3.6686425543504835, pvalue=0.006321851843553447, df=8)\n",
      "max AC: TtestResult(statistic=3.8554271791873744, pvalue=0.004840166409878514, df=8)\n"
     ]
    }
   ],
   "source": [
    "from scipy.stats import ttest_rel\n",
    "print('optimal ctrl:', ttest_1samp(relative_online_effects.groupby('subject').mean()['optimal ctrl'], 0))\n",
    "\n",
    "print('optimal ctrl:', ttest_rel(online_effects.groupby('subject').mean()['empirical'], online_effects.groupby('subject').mean()['optimal ctrl']))\n",
    "print('brute force:', ttest_rel(online_effects.groupby('subject').mean()['empirical'], online_effects.groupby('subject').mean()['brute force']))\n",
    "print('max AC:', ttest_rel(online_effects.groupby('subject').mean()['empirical'], online_effects.groupby('subject').mean()['max AC']))"
   ]
  },
  {
   "cell_type": "markdown",
   "metadata": {},
   "source": [
    "Calculate the effect size of the strategies"
   ]
  },
  {
   "cell_type": "code",
   "execution_count": 27,
   "metadata": {},
   "outputs": [
    {
     "name": "stdout",
     "output_type": "stream",
     "text": [
      "optimal ctrl: 0.36146784076361616\n",
      "brute force: 1.3175586141134852\n",
      "max AC: 1.3027648735904687\n"
     ]
    }
   ],
   "source": [
    "print('optimal ctrl:', utils.cohens_d(online_effects.groupby('subject').mean()['empirical'], online_effects.groupby('subject').mean()['optimal ctrl'], correct=True))\n",
    "print('brute force:', utils.cohens_d(online_effects.groupby('subject').mean()['empirical'], online_effects.groupby('subject').mean()['brute force'], correct=True))\n",
    "print('max AC:', utils.cohens_d(online_effects.groupby('subject').mean()['empirical'], online_effects.groupby('subject').mean()['max AC'], correct=True))"
   ]
  },
  {
   "cell_type": "markdown",
   "metadata": {},
   "source": [
    "Plot the relative effects of the online effects"
   ]
  },
  {
   "cell_type": "code",
   "execution_count": 35,
   "metadata": {},
   "outputs": [
    {
     "name": "stderr",
     "output_type": "stream",
     "text": [
      "C:\\Users\\janik.fechtelpeter\\AppData\\Local\\Temp\\ipykernel_28952\\1979397565.py:6: UserWarning: constrained_layout not applied because axes sizes collapsed to zero.  Try making figure larger or axes decorations smaller.\n",
      "  fig.savefig('figures/3c.png')\n",
      "d:\\ZI Mannheim\\Control Theory\\paper_EMIcompass\\code\\.venv\\lib\\site-packages\\IPython\\core\\events.py:82: UserWarning: constrained_layout not applied because axes sizes collapsed to zero.  Try making figure larger or axes decorations smaller.\n",
      "  func(*args, **kwargs)\n",
      "d:\\ZI Mannheim\\Control Theory\\paper_EMIcompass\\code\\.venv\\lib\\site-packages\\IPython\\core\\pylabtools.py:170: UserWarning: constrained_layout not applied because axes sizes collapsed to zero.  Try making figure larger or axes decorations smaller.\n",
      "  fig.canvas.print_figure(bytes_io, **kw)\n"
     ]
    },
    {
     "data": {
      "image/png": "[encoded data removed]",
      "text/plain": [
       "<Figure size 170x110 with 1 Axes>"
      ]
     },
     "metadata": {},
     "output_type": "display_data"
    }
   ],
   "source": [
    "fig, ax = plt.subplots()\n",
    "relative_online_effects.groupby('subject').mean().mean().plot(ax=ax, kind='bar', ylabel='$\\hat{D} - D$',\n",
    "                    yerr=online_effects.sem(), color=colors.algorithms)\n",
    "utils.set_axis_size(ax, 1.4, 1)\n",
    "\n",
    "fig.savefig('figures/3c.png')"
   ]
  },
  {
   "cell_type": "markdown",
   "metadata": {},
   "source": [
    "Calculate the correlation of the online strategies' effects and the amount of data (time series length) that exists at the time of input selection. Exclude data points from before time 40."
   ]
  },
  {
   "cell_type": "code",
   "execution_count": 38,
   "metadata": {},
   "outputs": [
    {
     "name": "stdout",
     "output_type": "stream",
     "text": [
      "CORRELATION EFFECTS * TIME SERIES LENGTH FOR T>=40\n",
      "PearsonRResult(statistic=-0.29733180292483763, pvalue=0.02605183784194951)\n",
      "PearsonRResult(statistic=-0.20541422983280136, pvalue=0.1288238457613038)\n",
      "PearsonRResult(statistic=-0.00435656832003882, pvalue=0.9745785961697447)\n"
     ]
    }
   ],
   "source": [
    "from scipy.stats import pearsonr\n",
    "\n",
    "print('CORRELATION EFFECTS * TIME SERIES LENGTH FOR T>=40')\n",
    "ts_length = online_effects.dropna().index.get_level_values(1)\n",
    "mask = ts_length>40\n",
    "print(pearsonr(ts_length[mask], online_effects.dropna().loc[mask, 'optimal ctrl']))\n",
    "print(pearsonr(ts_length[mask], online_effects.dropna().loc[mask, 'brute force']))\n",
    "print(pearsonr(ts_length[mask], online_effects.dropna().loc[mask, 'max AC']))"
   ]
  }
 ],
 "metadata": {
  "kernelspec": {
   "display_name": ".control_env",
   "language": "python",
   "name": "python3"
  },
  "language_info": {
   "codemirror_mode": {
    "name": "ipython",
    "version": 3
   },
   "file_extension": ".py",
   "mimetype": "text/x-python",
   "name": "python",
   "nbconvert_exporter": "python",
   "pygments_lexer": "ipython3",
   "version": "3.10.11"
  },
  "orig_nbformat": 4
 },
 "nbformat": 4,
 "nbformat_minor": 2
}
