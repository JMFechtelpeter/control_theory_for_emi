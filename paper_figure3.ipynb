{
 "cells": [
  {
   "attachments": {},
   "cell_type": "markdown",
   "metadata": {},
   "source": [
    "Figure 3A: EMI Impulse Responses"
   ]
  },
  {
   "cell_type": "code",
   "execution_count": 8,
   "metadata": {},
   "outputs": [
    {
     "name": "stderr",
     "output_type": "stream",
     "text": [
      "d:\\ZI Mannheim\\Control Theory\\project_EMIcompass\\.venv\\lib\\site-packages\\scipy\\io\\matlab\\_mio.py:227: MatReadWarning: Duplicate variable name \"None\" in stream - replacing previous with new\n",
      "Consider mio5.varmats_from_mat to split file into single variable files\n",
      "  matfile_dict = MR.get_variables(variable_names)\n"
     ]
    },
    {
     "name": "stdout",
     "output_type": "stream",
     "text": [
      "Bonferroni corrected T Test results\n",
      "EMI-I: T=-4.1498946544282935, p=0.015708293507751547, df=14\n",
      "EMI-II: T=-6.552425486108697, p=9.001227772905607e-05, df=14\n",
      "EMI-III: T=-1.9957405101597911, p=1.052747299918029, df=14\n",
      "With company: T=-1.5786453318854334, p=0.9571780085576831, df=14\n"
     ]
    }
   ],
   "source": [
    "from scipy import stats\n",
    "import matplotlib.pyplot as plt\n",
    "import matplotlib as mpl\n",
    "from ctrl.discrete_optimal_control2 import LQR\n",
    "from ctrl import utils\n",
    "import numpy as np\n",
    "import custom_rcparams_paper as crc\n",
    "\n",
    "data = utils.load_data(3)    \n",
    "# data = [data[i] for i in range(len(data)) if (i!=1 and i!=4)]\n",
    "features = data[0]['Xlabs']\n",
    "intervs = data[0]['Ilabs']\n",
    "ac = np.zeros((len(data), len(features)))\n",
    "mc = np.zeros((len(data), len(features)))\n",
    "emi_IR = np.zeros((len(data), len(intervs), len(features)))\n",
    "\n",
    "for j in range(len(data)):\n",
    "    X = data[j]['X']\n",
    "    A = data[j]['A']\n",
    "    B = data[j]['C']\n",
    "    ac[j] = LQR.average_ctrb(A, 15)    \n",
    "    mc[j] = LQR.modal_ctrb(A)    \n",
    "    for i in range(len(intervs)):\n",
    "        emi_IR[j,i] = LQR.impulse_response(A, B[:,i], 100)\n",
    "        # emi_IR[j,i] /= np.max(emi_IR[j,i])\n",
    "        # emi_IR[j,i] = np.nan_to_num(emi_IR[j,i], nan=0)\n",
    "\n",
    "with mpl.rc_context({'ytick.labelsize':'small', 'figure.constrained_layout.wspace':0.05}):\n",
    "    fig, axes = plt.subplots(1,len(intervs), figsize=(6.27,2), sharey=True)\n",
    "    xlims = [(-5,5), (-5,5), (-10,10), (-5,5)]\n",
    "    for i, ax in enumerate(axes):\n",
    "        for j in range(len(features)):\n",
    "            ax.barh(j, np.median(emi_IR[:,i,j], axis=0), \n",
    "                    xerr=np.expand_dims([np.median(emi_IR[:,i,j], axis=0) - np.percentile(emi_IR[:,i,j], 25, axis=0), \n",
    "                                         np.percentile(emi_IR[:,i,j], 75, axis=0) - np.median(emi_IR[:,i,j], axis=0)], 1),\n",
    "                    color=crc.colors.features[j], ecolor=crc.colors.errorbars)\n",
    "            ax.plot([0,0], ax.get_ylim(), color='black', zorder=-5, linewidth=0.25)\n",
    "        ax.set_xlabel('IR')\n",
    "        # ax.set_xlabel('norm. IR')\n",
    "        xlim = np.max(np.abs(ax.get_xlim()))\n",
    "        ax.set_xlim((-xlim, xlim))\n",
    "        ax.set_yticks(np.arange(len(features)))\n",
    "        ax.set_yticklabels(features)\n",
    "        ax.set_ylim((-0.7, len(features)-0.3))\n",
    "        ax.set_title(intervs[i])\n",
    "        if i>0:\n",
    "            ax.spines[['left']].set_visible(False)\n",
    "            ax.tick_params('y',left=False)\n",
    "        if i<len(intervs)-1:\n",
    "            ax.spines[['right']].set_visible(False)\n",
    "        \n",
    "    plt.savefig('figures/paper/figure3A.png')\n",
    "    plt.savefig('figures/paper/figure3A.svg')\n",
    "\n",
    "print('Bonferroni corrected T Test results')\n",
    "ttest = stats.ttest_1samp(np.median(emi_IR[:,0], axis=0), 0)\n",
    "print(f'EMI-I: T={ttest.statistic}, p={ttest.pvalue*16}, df={ttest.df}')\n",
    "ttest = stats.ttest_1samp(np.median(emi_IR[:,1], axis=0), 0)\n",
    "print(f'EMI-II: T={ttest.statistic}, p={ttest.pvalue*7}, df={ttest.df}')\n",
    "ttest = stats.ttest_1samp(np.median(emi_IR[:,2], axis=0), 0)\n",
    "print(f'EMI-III: T={ttest.statistic}, p={ttest.pvalue*16}, df={ttest.df}')\n",
    "ttest = stats.ttest_1samp(np.median(emi_IR[:,3], axis=0), 0)\n",
    "print(f'With company: T={ttest.statistic}, p={ttest.pvalue*7}, df={ttest.df}')"
   ]
  },
  {
   "attachments": {},
   "cell_type": "markdown",
   "metadata": {},
   "source": [
    "Figure 4B: Max Median AC Impulse Response\n",
    "\n",
    "Figure 4C: Max Individual AC Impulse Response\n",
    "\n",
    "Figure 4D: Max Median MC Impulse Response"
   ]
  },
  {
   "cell_type": "code",
   "execution_count": 3,
   "metadata": {},
   "outputs": [
    {
     "name": "stderr",
     "output_type": "stream",
     "text": [
      "d:\\ZI Mannheim\\Control Theory\\project_EMIcompass\\.venv\\lib\\site-packages\\scipy\\io\\matlab\\_mio.py:227: MatReadWarning: Duplicate variable name \"None\" in stream - replacing previous with new\n",
      "Consider mio5.varmats_from_mat to split file into single variable files\n",
      "  matfile_dict = MR.get_variables(variable_names)\n"
     ]
    },
    {
     "data": {
      "image/png": "[encoded data removed]",
      "text/plain": [
       "<Figure size 470x200 with 3 Axes>"
      ]
     },
     "metadata": {},
     "output_type": "display_data"
    }
   ],
   "source": [
    "import matplotlib.pyplot as plt\n",
    "from ctrl.discrete_optimal_control2 import LQR\n",
    "from ctrl import utils\n",
    "import numpy as np\n",
    "import custom_rcparams_paper as crc\n",
    "\n",
    "data = utils.load_data(3)    \n",
    "features = data[0]['Xlabs']\n",
    "intervs = data[0]['Ilabs']\n",
    "ac = np.zeros((len(data), len(features)))\n",
    "mc = np.zeros((len(data), len(features)))\n",
    "node_IR = np.zeros((len(data), len(features), len(features)))\n",
    "individual_highest_AC_node_IR = np.zeros((len(data), len(features)))\n",
    "\n",
    "for j in range(len(data)):\n",
    "    X = data[j]['X']\n",
    "    A = data[j]['A']\n",
    "    B = np.eye(A.shape[0])\n",
    "    ac[j] = LQR.average_ctrb(A, 15)    \n",
    "    mc[j] = LQR.modal_ctrb(A)    \n",
    "    for i in range(len(features)):\n",
    "        node_IR[j,i] = LQR.impulse_response(A, -B[:,i], 100)\n",
    "\n",
    "highest_median_ac = 11 #SOC. UNPLEASANT #np.argmax(np.median(ac, axis=0))\n",
    "highest_median_mc = 1 #CHEERFUL #np.argmax(np.median(mc, axis=0))\n",
    "highest_individual_ac = np.argmax(ac, axis=1)\n",
    "for i in range(len(data)):\n",
    "    individual_highest_AC_node_IR[i] = node_IR[i, highest_individual_ac[i]]\n",
    "\n",
    "fig, axes = plt.subplots(1,3, figsize=(4.7,2), sharey=True)\n",
    "\n",
    "ax = axes[0]\n",
    "for j in range(len(features)):\n",
    "    ax.barh(j, np.median(node_IR[:,highest_median_ac,j], axis=0), \n",
    "        xerr=np.expand_dims([np.median(node_IR[:,highest_median_ac,j], axis=0) - np.percentile(node_IR[:,highest_median_ac,j], 25, axis=0), \n",
    "                np.percentile(node_IR[:,highest_median_ac,j], 75, axis=0) - np.median(node_IR[:,highest_median_ac,j], axis=0)], 1),\n",
    "        color=crc.colors.features[j], ecolor=crc.colors.errorbars)\n",
    "    ax.plot([0,0], ax.get_ylim(), color='black', zorder=-5, linewidth=0.25)\n",
    "ax.set_xlabel('IR')\n",
    "xlim = np.max(np.abs(ax.get_xlim()))\n",
    "ax.set_xlim((-xlim, xlim))\n",
    "ax.set_yticks(np.arange(len(features)))\n",
    "ax.set_yticklabels(features)\n",
    "ax.set_ylim((-0.7, len(features)-0.3))\n",
    "ax.set_title(features[highest_median_ac])\n",
    "ax.spines[['right']].set_visible(False)\n",
    "\n",
    "ax = axes[1]\n",
    "for j in range(len(features)):\n",
    "    median = np.median(individual_highest_AC_node_IR[:,j], axis=0)\n",
    "    percentile25 = np.percentile(individual_highest_AC_node_IR[:,j], 25, axis=0)\n",
    "    percentile75 = np.percentile(individual_highest_AC_node_IR[:,j], 75, axis=0)\n",
    "    ax.barh(j, median, \n",
    "        #     xerr = [median - percentile25, percentile75 - median],\n",
    "            xerr=np.expand_dims([median - percentile25, percentile75 - median], 1),\n",
    "            color=crc.colors.features[j], ecolor=crc.colors.errorbars)\n",
    "    ax.plot([0,0], ax.get_ylim(), color='black', zorder=-5, linewidth=0.25)\n",
    "ax.set_xlabel('IR')\n",
    "xlim = np.max(np.abs(ax.get_xlim()))\n",
    "ax.set_xlim((-xlim, xlim))\n",
    "ax.set_yticks(np.arange(len(features)))\n",
    "ax.set_yticklabels(features)\n",
    "ax.set_ylim((-0.7, len(features)-0.3))\n",
    "ax.set_title('indiv. max AC node')\n",
    "ax.spines[['left']].set_visible(False)\n",
    "ax.tick_params('y',left=False)\n",
    "ax.spines[['right']].set_visible(False)\n",
    "\n",
    "ax = axes[2]\n",
    "for j in range(len(features)):\n",
    "    ax.barh(j, np.median(node_IR[:,highest_median_mc,j], axis=0), \n",
    "        xerr=np.expand_dims([np.median(node_IR[:,highest_median_mc,j], axis=0) - np.percentile(node_IR[:,highest_median_mc,j], 25, axis=0), \n",
    "                np.percentile(node_IR[:,highest_median_mc,j], 75, axis=0) - np.median(node_IR[:,highest_median_mc,j], axis=0)], 1),\n",
    "        color=crc.colors.features[j], ecolor=crc.colors.errorbars)\n",
    "    ax.plot([0,0], ax.get_ylim(), color='black', zorder=-5, linewidth=0.25)\n",
    "ax.set_xlabel('IR')\n",
    "xlim = np.max(np.abs(ax.get_xlim()))\n",
    "ax.set_xlim((-xlim, xlim))\n",
    "ax.set_yticks(np.arange(len(features)))\n",
    "ax.set_yticklabels(features)\n",
    "ax.set_ylim((-0.7, len(features)-0.3))\n",
    "ax.set_title(features[highest_median_mc])\n",
    "ax.spines[['left']].set_visible(False)\n",
    "ax.tick_params('y',left=False)\n",
    "\n",
    "plt.savefig('figures/paper/figure3B-D.png')\n",
    "plt.savefig('figures/paper/figure3B-D.svg')\n",
    "plt.show()"
   ]
  }
 ],
 "metadata": {
  "kernelspec": {
   "display_name": ".control_env",
   "language": "python",
   "name": "python3"
  },
  "language_info": {
   "codemirror_mode": {
    "name": "ipython",
    "version": 3
   },
   "file_extension": ".py",
   "mimetype": "text/x-python",
   "name": "python",
   "nbconvert_exporter": "python",
   "pygments_lexer": "ipython3",
   "version": "3.10.11"
  },
  "orig_nbformat": 4
 },
 "nbformat": 4,
 "nbformat_minor": 2
}
