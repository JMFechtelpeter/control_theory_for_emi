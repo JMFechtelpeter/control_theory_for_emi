{
 "cells": [
  {
   "cell_type": "markdown",
   "metadata": {},
   "source": [
    "Load or generate data"
   ]
  },
  {
   "cell_type": "code",
   "execution_count": 1,
   "metadata": {},
   "outputs": [],
   "source": [
    "from ctrl import utils\n",
    "\n",
    "# data = utils.generate_random_dataset(10, 50)\n",
    "data = utils.load_data()"
   ]
  },
  {
   "cell_type": "markdown",
   "metadata": {},
   "source": [
    "Calculate the AC of the three EMI and social company"
   ]
  },
  {
   "cell_type": "code",
   "execution_count": 4,
   "metadata": {},
   "outputs": [],
   "source": [
    "import numpy as np\n",
    "from ctrl import discrete_optimal_control as doc\n",
    "\n",
    "items = data[0]['Xlabs']\n",
    "intervs = data[0]['Ilabs']\n",
    "emi_AC = np.zeros((len(data), len(intervs)))\n",
    "\n",
    "for j in range(len(data)):\n",
    "    A = data[j]['A']\n",
    "    B = data[j]['B']\n",
    "    emi_AC[j] = doc.average_ctrb(A, B=B, T=15)"
   ]
  },
  {
   "cell_type": "markdown",
   "metadata": {},
   "source": [
    "Test the AC of the three EMI against the AC of social company"
   ]
  },
  {
   "cell_type": "code",
   "execution_count": 39,
   "metadata": {},
   "outputs": [
    {
     "data": {
      "text/plain": [
       "TtestResult(statistic=2.089010236383041, pvalue=0.04345658140984573, df=38.0)"
      ]
     },
     "execution_count": 39,
     "metadata": {},
     "output_type": "execute_result"
    }
   ],
   "source": [
    "from scipy import stats\n",
    "\n",
    "stats.ttest_ind(emi_AC[:,:3].reshape(-1), emi_AC[:,3])"
   ]
  },
  {
   "cell_type": "markdown",
   "metadata": {},
   "source": [
    "Plot the AC of EMI and social company (Figure 1a)"
   ]
  },
  {
   "cell_type": "code",
   "execution_count": 32,
   "metadata": {},
   "outputs": [
    {
     "name": "stderr",
     "output_type": "stream",
     "text": [
      "C:\\Users\\janik.fechtelpeter\\AppData\\Local\\Temp\\ipykernel_28420\\544824073.py:14: UserWarning: constrained_layout not applied because axes sizes collapsed to zero.  Try making figure larger or axes decorations smaller.\n",
      "  plt.savefig('figures/1a.png')\n",
      "d:\\ZI Mannheim\\Control Theory\\paper_EMIcompass\\code\\.venv\\lib\\site-packages\\IPython\\core\\pylabtools.py:170: UserWarning: constrained_layout not applied because axes sizes collapsed to zero.  Try making figure larger or axes decorations smaller.\n",
      "  fig.canvas.print_figure(bytes_io, **kw)\n"
     ]
    },
    {
     "data": {
      "image/png": "[encoded data removed]",
      "text/plain": [
       "<Figure size 170x110 with 1 Axes>"
      ]
     },
     "metadata": {},
     "output_type": "display_data"
    }
   ],
   "source": [
    "import os\n",
    "import matplotlib.pyplot as plt\n",
    "from custom_rcparams_paper import colors\n",
    "\n",
    "fig, ax = plt.subplots()\n",
    "ax.barh(range(len(intervs)), emi_AC.mean(axis=0), xerr=stats.sem(emi_AC, axis=0),\n",
    "        color=colors.ac, ecolor=colors.light_errorbars)\n",
    "ax.set(yticks=np.arange(len(intervs)),\n",
    "        yticklabels=intervs,\n",
    "        xticks=[0,25,50],\n",
    "        ylim=[-0.5, len(intervs)-0.5],\n",
    "        xlabel='AC')\n",
    "utils.set_axis_size(ax, 1.2, 0.8)\n",
    "plt.savefig('figures/1a.png')"
   ]
  },
  {
   "attachments": {},
   "cell_type": "markdown",
   "metadata": {},
   "source": [
    "Calculate the AC of hypothetical interventions targeted at single network nodes"
   ]
  },
  {
   "cell_type": "code",
   "execution_count": 51,
   "metadata": {},
   "outputs": [],
   "source": [
    "node_AC = np.zeros((len(data), len(features)))\n",
    "\n",
    "for j in range(len(data)):\n",
    "    A = data[j]['A']\n",
    "    node_AC[j] = doc.average_ctrb(A, T=15)\n",
    "\n",
    "### For the right panel: Determine how often each item occurs among the top 4 items w.r.t. average controllability\n",
    "top4ac = np.r_[np.argsort(node_AC, axis=1)[:,-1:-5:-1].flatten(), np.arange(len(features))].copy()\n",
    "_, top4ac_counts = np.unique(top4ac, return_counts=True)\n",
    "top4ac_counts -= 1"
   ]
  },
  {
   "cell_type": "markdown",
   "metadata": {},
   "source": [
    "Plot the AC of individual nodes and how often the nodes occur in the top 4 AC nodes (Figure 1b)"
   ]
  },
  {
   "cell_type": "code",
   "execution_count": 52,
   "metadata": {},
   "outputs": [
    {
     "data": {
      "image/png": "[encoded data removed]",
      "text/plain": [
       "<Figure size 340x240 with 2 Axes>"
      ]
     },
     "metadata": {},
     "output_type": "display_data"
    }
   ],
   "source": [
    "statistic = 'median'\n",
    "\n",
    "fig, axes = plt.subplots(1,2, figsize=(3.4, 2.4), sharey=True, gridspec_kw={'width_ratios':(1.8,1)})\n",
    "\n",
    "if statistic=='median':\n",
    "    interval = np.vstack((np.percentile(node_AC, 25, axis=0), np.percentile(node_AC, 75, axis=0)))\n",
    "    bar_container = axes[0].barh(range(len(features)), np.median(node_AC, axis=0), color=colors.ac,\n",
    "            xerr=np.abs(np.median(node_AC, axis=0, keepdims=True)-interval), error_kw={'linewidth':1}, ecolor=colors.light_errorbars)\n",
    "    axes[0].set_xlabel('median AC')\n",
    "    axes[0].set_xticks([0,10,20])\n",
    "elif statistic=='mean':\n",
    "    interval = stats.sem(node_AC, axis=0)\n",
    "    bar_container = axes[0].barh(range(len(features)), np.mean(node_AC, axis=0), color=colors.ac,\n",
    "            xerr=interval, error_kw={'linewidth':1}, ecolor=colors.light_errorbars)\n",
    "    axes[0].set_xlabel('mean AC')\n",
    "    axes[0].set_xticks([0,20,40])\n",
    "\n",
    "axes[0].set_yticks(np.arange(len(features)), labels=features)\n",
    "axes[0].set_yticks(np.arange(2,len(features)-1,3)+0.5, minor=True)\n",
    "axes[0].grid(which='minor')\n",
    "\n",
    "axes[1].barh(range(len(features)), top4ac_counts, color=colors.ac)\n",
    "axes[1].set_xlabel('Occurence in\\ntop 4 AC nodes')\n",
    "axes[1].set_xticks([0,2,4])\n",
    "axes[1].set_xlim([0, 5.5])\n",
    "axes[1].set_yticks(np.arange(2,len(features)-1,3)+0.5, minor=True)\n",
    "axes[1].grid(which='minor')\n",
    "axes[1].tick_params(left=False)\n",
    "plt.savefig('figures/1b.png')\n"
   ]
  },
  {
   "cell_type": "markdown",
   "metadata": {},
   "source": [
    "Calculate the correlation between log nodewise AC and log node centrality"
   ]
  },
  {
   "cell_type": "code",
   "execution_count": 53,
   "metadata": {},
   "outputs": [
    {
     "name": "stdout",
     "output_type": "stream",
     "text": [
      "Correlation of log AC and centrality: PearsonRResult(statistic=0.7125278187987585, pvalue=1.533859476945158e-24)\n"
     ]
    }
   ],
   "source": [
    "from scipy import stats\n",
    "\n",
    "sum_incoming_weights = np.zeros((len(data), len(features)))\n",
    "sum_outgoing_weights = np.zeros((len(data), len(features)))\n",
    "\n",
    "for j in range(len(data)):\n",
    "    A = data[j]['A']\n",
    "    sum_incoming_weights[j] = np.sum(np.abs(A), axis=1)     # Incoming weights are rows of A\n",
    "    sum_outgoing_weights[j] = np.sum(np.abs(A), axis=0)     # Outgoing weights are columns of A\n",
    "centr = sum_incoming_weights + sum_outgoing_weights\n",
    "\n",
    "log_node_AC = np.log(node_AC).flatten()\n",
    "log_centr = np.log(centr).flatten()\n",
    "correlation_result = stats.pearsonr(log_node_AC, log_centr)\n",
    "\n",
    "print(f'Correlation of log AC and centrality: {correlation_result}')"
   ]
  },
  {
   "cell_type": "markdown",
   "metadata": {},
   "source": [
    "Plot log nodewise AC against log node centrality (Figure 1c)"
   ]
  },
  {
   "cell_type": "code",
   "execution_count": 57,
   "metadata": {},
   "outputs": [
    {
     "data": {
      "image/png": "[encoded data removed]",
      "text/plain": [
       "<Figure size 190x170 with 1 Axes>"
      ]
     },
     "metadata": {},
     "output_type": "display_data"
    }
   ],
   "source": [
    "with mpl.rc_context({'lines.markersize':2}):\n",
    "    fig, ax = plt.subplots(figsize=(1.9,1.7))\n",
    "    ax, _ = utils.plot_regression(log_node_AC, log_centr, ax=ax,\n",
    "                        scatter_kwargs={'color':colors.ac}, line_kwargs={'color':'k'})\n",
    "    ax.set(xlabel='log(AC)',\n",
    "        ylabel='centrality',\n",
    "        ylim=np.array(ax.get_ylim()) + np.array([-1, 1]))\n",
    "    plt.savefig('figures/1c.png')"
   ]
  }
 ],
 "metadata": {
  "kernelspec": {
   "display_name": ".control_env",
   "language": "python",
   "name": "python3"
  },
  "language_info": {
   "codemirror_mode": {
    "name": "ipython",
    "version": 3
   },
   "file_extension": ".py",
   "mimetype": "text/x-python",
   "name": "python",
   "nbconvert_exporter": "python",
   "pygments_lexer": "ipython3",
   "version": "3.10.11"
  },
  "orig_nbformat": 4
 },
 "nbformat": 4,
 "nbformat_minor": 2
}
