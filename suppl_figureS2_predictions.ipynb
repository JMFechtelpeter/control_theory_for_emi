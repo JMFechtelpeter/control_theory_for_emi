{
 "cells": [
  {
   "cell_type": "markdown",
   "metadata": {},
   "source": [
    "Get the data or create random dataset"
   ]
  },
  {
   "cell_type": "code",
   "execution_count": 1,
   "metadata": {},
   "outputs": [],
   "source": [
    "from ctrl import utils\n",
    "\n",
    "# data = utils.generate_random_dataset(10, 50)\n",
    "data = utils.load_data()"
   ]
  },
  {
   "cell_type": "markdown",
   "metadata": {},
   "source": [
    "Plot an example EMA/EMI trajectory"
   ]
  },
  {
   "cell_type": "markdown",
   "metadata": {},
   "source": [
    "Calculate \n",
    "- the model predictions $\\hat{x}_{t+1} = Ax_t + Bu_t$ \n",
    "- the fraction of variance explained per subject \n",
    "- the observed and predicted effects of all EMI types: for each $k=1,2,3,4: (x_{t+1} - x_t) \\quad \\forall t: u_t = e_k$\n",
    "- the predicted differences without including the EMI ($\\hat{x}_{t+1} = Ax_t$)\n",
    "- the observed and predicted effects given any kind of EMI: $(x_{t+1} - x_t) \\quad \\forall t: u_t \\neq 0$"
   ]
  },
  {
   "cell_type": "code",
   "execution_count": 2,
   "metadata": {},
   "outputs": [],
   "source": [
    "import warnings\n",
    "import numpy as np\n",
    "from ctrl import discrete_optimal_control as doc\n",
    "\n",
    "N = len(data)\n",
    "n_feat = len(data[0]['Xlabs'])\n",
    "n_emis = len(data[0]['Ilabs'])\n",
    "determination_coeff = np.zeros((N, n_feat))\n",
    "r_squared = np.zeros((N, n_feat))\n",
    "emi_effects = np.zeros((N, n_emis, n_feat))\n",
    "predicted_effects = np.zeros((N, n_emis, n_feat))\n",
    "predicted_effects_without_inputs = np.zeros((N, n_emis, n_feat))\n",
    "any_emi_effects = np.zeros((N, n_feat))\n",
    "any_predicted_effects = np.zeros((N, n_feat))\n",
    "\n",
    "for j, d in enumerate(data):\n",
    "    Xnan = data[j]['Xnan']\n",
    "    prediction = doc.step(d['A'], d['B'], d['X'], d['Inp'])[:-1]\n",
    "    prediction[np.isnan(Xnan[:-1]) ] = np.nan   # We only analyze the data which is not missing (leaving out imputed data)\n",
    "\n",
    "    for f in range(n_feat):\n",
    "        mask = ~np.isnan(Xnan[1:][:,f]) & ~np.isnan(prediction[:,f])\n",
    "        with warnings.catch_warnings():\n",
    "            warnings.simplefilter('ignore')\n",
    "            r_squared[j,f] = np.corrcoef(prediction[mask,f], Xnan[1:][mask, f])[0,1]**2\n",
    "\n",
    "    A_wi, _, _ = utils.stable_ridge_regression(d['X'], d['Inp'])\n",
    "    prediction_without_inputs = (d['A'] @ d['X'].T).T[:-1]\n",
    "\n",
    "    with warnings.catch_warnings():\n",
    "        warnings.simplefilter('ignore') \n",
    "        for e in range(n_emis):\n",
    "            Xnan_before = Xnan[:-1][d['Inp'][:-1,e]==1]\n",
    "            Xnan_after = Xnan[1:][d['Inp'][:-1,e]==1]        \n",
    "            emi_effects[j,e] = np.nanmean(Xnan_after - Xnan_before, axis=0)\n",
    "            predicted_after = prediction[d['Inp'][:-1,e]==1]\n",
    "            predicted_effects[j,e] = np.nanmean((predicted_after - Xnan_before), axis=0)\n",
    "            predicted_after_without_inputs = prediction_without_inputs[d['Inp'][:-1,e]==1]\n",
    "            predicted_effects_without_inputs[j,e] = np.nanmean((predicted_after_without_inputs - Xnan_before), axis=0)\n",
    "        any_emi_effects[j] = np.nanmean(Xnan[1:][d['Inp'][:-1].any(1)] - Xnan[:-1][d['Inp'][:-1].any(1)], axis=0)\n",
    "        any_predicted_effects[j] = np.nanmean(prediction[d['Inp'][:-1].any(1)] - Xnan[:-1][d['Inp'][:-1].any(1)], axis=0)"
   ]
  },
  {
   "cell_type": "markdown",
   "metadata": {},
   "source": [
    "Calculate the between-subject mean and std of the fraction of variance explained by the model predictions"
   ]
  },
  {
   "cell_type": "code",
   "execution_count": 3,
   "metadata": {},
   "outputs": [
    {
     "name": "stdout",
     "output_type": "stream",
     "text": [
      "1-step ahead prediction: across-subject mean R^2=0.45801051902681233, std=0.2830879055317403\n"
     ]
    }
   ],
   "source": [
    "print(f\"1-step ahead prediction: across-subject mean R^2={np.nanmean(r_squared)}, std={np.nanstd(r_squared)}\")"
   ]
  },
  {
   "cell_type": "markdown",
   "metadata": {},
   "source": [
    "Plot the variance explained per EMA item"
   ]
  },
  {
   "cell_type": "code",
   "execution_count": 5,
   "metadata": {},
   "outputs": [
    {
     "data": {
      "image/png": "[encoded data removed]",
      "text/plain": [
       "<Figure size 150x150 with 1 Axes>"
      ]
     },
     "metadata": {},
     "output_type": "display_data"
    }
   ],
   "source": [
    "from scipy.stats import sem\n",
    "import matplotlib.pyplot as plt\n",
    "import matplotlib as mpl\n",
    "import custom_rcparams_paper as crc\n",
    "\n",
    "with mpl.rc_context({'ytick.labelsize':'x-small'}):\n",
    "    fig, ax = plt.subplots(1,1, figsize=(1.5,1.5))\n",
    "    ax.barh(range(n_feat), np.nanmean(r_squared, axis=0), color=crc.colors.features,\n",
    "                xerr=sem(r_squared, axis=0, nan_policy='omit'), error_kw={'linewidth':1}, ecolor=crc.colors.errorbars)\n",
    "    ax.set_yticks(np.arange(n_feat), labels=data[0]['Xlabs'])\n",
    "    ax.set_ylim((-0.5, n_feat-0.5))\n",
    "    ax.set_xlabel('expl. variation')\n",
    "    fig.savefig('figures/S2b.png')\n",
    "    plt.show()"
   ]
  },
  {
   "cell_type": "markdown",
   "metadata": {},
   "source": [
    "Calculate the subject mean predicted and empirical EMI effects (with and without inputs in the model)"
   ]
  },
  {
   "cell_type": "code",
   "execution_count": 6,
   "metadata": {},
   "outputs": [],
   "source": [
    "from scipy.stats import pearsonr\n",
    "\n",
    "predicted_effects[np.isnan(emi_effects)] = np.nan\n",
    "predicted_effects_without_inputs[np.isnan(emi_effects)] = np.nan\n",
    "with warnings.catch_warnings():\n",
    "    warnings.simplefilter('ignore')\n",
    "    predicted_effects = np.nanmean(predicted_effects, axis=0)\n",
    "    predicted_effects_without_inputs = np.nanmean(predicted_effects_without_inputs, axis=0)\n",
    "    emi_effects = np.nanmean(emi_effects, axis=0)"
   ]
  },
  {
   "cell_type": "markdown",
   "metadata": {},
   "source": [
    "Calculate the fraction of effect variance explained when separating EMI types and EMA items and taking the mean over participants"
   ]
  },
  {
   "cell_type": "code",
   "execution_count": 7,
   "metadata": {},
   "outputs": [
    {
     "name": "stdout",
     "output_type": "stream",
     "text": [
      "Empirical vs. predicted EMI effects: r=0.8815765160099452, p=6.333633173631178e-18, R^2=0.7771771535802332\n",
      "Empirical vs. predicted EMI effects without inputs: r=0.6168771593758171, p=1.1162501498001623e-06, R^2=0.3805374297595773\n"
     ]
    }
   ],
   "source": [
    "flat_emi_effects = emi_effects.flatten()\n",
    "flat_predicted_effects = predicted_effects.flatten()\n",
    "mask = (~np.isnan(flat_emi_effects)) & (~np.isnan(flat_predicted_effects))\n",
    "corr = pearsonr(flat_predicted_effects[mask], flat_emi_effects[mask])\n",
    "print(f'Empirical vs. predicted EMI effects: r={corr.statistic}, p={corr.pvalue}, R^2={corr.statistic**2}')\n",
    "\n",
    "flat_pred_eff_without_inputs = predicted_effects_without_inputs.flatten()\n",
    "mask = (~np.isnan(flat_emi_effects)) & (~np.isnan(flat_pred_eff_without_inputs))\n",
    "corr_without_inputs = pearsonr(flat_pred_eff_without_inputs[mask], flat_emi_effects[mask])\n",
    "print(f'Empirical vs. predicted EMI effects without inputs: r={corr_without_inputs.statistic}, p={corr_without_inputs.pvalue}, R^2={corr_without_inputs.statistic**2}')"
   ]
  },
  {
   "cell_type": "markdown",
   "metadata": {},
   "source": [
    "Plot the predicted against observed effect of EMI"
   ]
  },
  {
   "cell_type": "code",
   "execution_count": 8,
   "metadata": {},
   "outputs": [
    {
     "data": {
      "image/png": "[encoded data removed]",
      "text/plain": [
       "<Figure size 150x90 with 1 Axes>"
      ]
     },
     "metadata": {},
     "output_type": "display_data"
    }
   ],
   "source": [
    "fig, ax = plt.subplots(1,1,figsize=(1.5,0.9))\n",
    "ax, corr = utils.plot_regression(predicted_effects.flatten(), emi_effects.flatten(), \n",
    "                      scatter_kwargs={'color':crc.colors.standard}, line_kwargs={'color':'k'}, ax=ax,\n",
    "                      nan_policy='omit')\n",
    "ax.set_xlabel('pred. input effect')\n",
    "ax.set_ylabel('obs. inp. effect')\n",
    "fig.savefig('figures/S2c.png')\n",
    "plt.show()"
   ]
  },
  {
   "cell_type": "markdown",
   "metadata": {},
   "source": [
    "Calculate the fraction of effect variance explained when taking the mean over EMI types and EMA items"
   ]
  },
  {
   "cell_type": "code",
   "execution_count": 9,
   "metadata": {},
   "outputs": [
    {
     "name": "stdout",
     "output_type": "stream",
     "text": [
      "Empirical vs. predicted EMI effects: r=0.6289524035233367, p=0.05140918395079315, R^2=0.39558112589778216\n"
     ]
    }
   ],
   "source": [
    "corr_any_emi = pearsonr(np.nanmean(any_predicted_effects, axis=1), np.nanmean(any_emi_effects, axis=1))\n",
    "print(f'Empirical vs. predicted EMI effects: r={corr_any_emi.statistic}, p={corr_any_emi.pvalue}, R^2={corr_any_emi.statistic**2}')"
   ]
  },
  {
   "cell_type": "markdown",
   "metadata": {},
   "source": [
    "Calculate the difference in variance explained between predicted differences with and without inputs"
   ]
  },
  {
   "cell_type": "code",
   "execution_count": 10,
   "metadata": {},
   "outputs": [
    {
     "name": "stdout",
     "output_type": "stream",
     "text": [
      "F Test between prediction accuracies with and : F=2.042314612970535, df1=51, df2=51\n"
     ]
    }
   ],
   "source": [
    "print(f'F Test between prediction accuracies with and : F={corr.statistic**2 / corr_without_inputs.statistic**2}, '\n",
    "      f'df1={sum(mask)-1}, df2={sum(mask)-1}')"
   ]
  }
 ],
 "metadata": {
  "kernelspec": {
   "display_name": ".venv",
   "language": "python",
   "name": "python3"
  },
  "language_info": {
   "codemirror_mode": {
    "name": "ipython",
    "version": 3
   },
   "file_extension": ".py",
   "mimetype": "text/x-python",
   "name": "python",
   "nbconvert_exporter": "python",
   "pygments_lexer": "ipython3",
   "version": "3.10.11"
  },
  "orig_nbformat": 4
 },
 "nbformat": 4,
 "nbformat_minor": 2
}
